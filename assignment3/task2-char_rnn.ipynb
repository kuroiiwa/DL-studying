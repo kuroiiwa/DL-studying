{
 "cells": [
  {
   "cell_type": "markdown",
   "metadata": {},
   "source": [
    "# Task 2: Char-RNN"
   ]
  },
  {
   "cell_type": "markdown",
   "metadata": {},
   "source": [
    "Char-RNN implements multi-layer Recurrent Neural Network (RNN, LSTM, and GRU) for training/sampling from character-level language models. In other words the model takes one text file as input and trains a Recurrent Neural Network that learns to predict the next character in a sequence. The RNN can then be used to generate text character by character that will look like the original training data. This network is first posted by Andrej Karpathy, you can find out about his original code on https://github.com/karpathy/char-rnn, the original code is written in *lua*."
   ]
  },
  {
   "cell_type": "markdown",
   "metadata": {},
   "source": [
    "Here we will implement Char-RNN using Tensorflow!"
   ]
  },
  {
   "cell_type": "code",
   "execution_count": 2,
   "metadata": {},
   "outputs": [],
   "source": [
    "import time\n",
    "import numpy as np\n",
    "import tensorflow as tf\n",
    "\n",
    "# Notebook auto reloads code. (Ref: http://stackoverflow.com/questions/1907993/autoreload-of-modules-in-ipython)\n",
    "%load_ext autoreload\n",
    "%autoreload 2"
   ]
  },
  {
   "cell_type": "markdown",
   "metadata": {},
   "source": [
    "## Part 1: Setup\n",
    "In this part, we will read the data of our input text and process the text for later network training. There are two txt files in the data folder, for computing time consideration, we will use tinyshakespeare.txt here."
   ]
  },
  {
   "cell_type": "code",
   "execution_count": 3,
   "metadata": {},
   "outputs": [
    {
     "name": "stdout",
     "output_type": "stream",
     "text": [
      "Length of text: 1115394 characters\n",
      "First Citizen:\n",
      "Before we proceed any further, hear me speak.\n",
      "\n",
      "All:\n",
      "Speak, speak.\n",
      "\n",
      "First Citizen:\n",
      "You are all resolved rather to die than to famish?\n",
      "\n",
      "All:\n",
      "Resolved. resolved.\n",
      "\n",
      "First Citizen:\n",
      "First, you know Caius Marcius is chief enemy to the people.\n",
      "\n",
      "All:\n",
      "We know't, we know't.\n",
      "\n",
      "First Citizen:\n",
      "Let us kill him, and we'll have corn at our own price.\n",
      "Is't a verdict?\n",
      "\n",
      "All:\n",
      "No more talking on't; let it be done: away, away!\n",
      "\n",
      "Second Citizen:\n",
      "One word, good citizens.\n",
      "\n",
      "First Citizen:\n",
      "We are accounted poor\n"
     ]
    }
   ],
   "source": [
    "with open('data/tinyshakespeare.txt', 'r') as f:\n",
    "    text=f.read()\n",
    "# length of text is the number of characters in it\n",
    "print('Length of text: {} characters'.format(len(text)))\n",
    "# and let's get a glance of what the text is\n",
    "print(text[:500])"
   ]
  },
  {
   "cell_type": "code",
   "execution_count": 4,
   "metadata": {},
   "outputs": [
    {
     "name": "stdout",
     "output_type": "stream",
     "text": [
      "65 unique characters\n"
     ]
    }
   ],
   "source": [
    "# The unique characters in the file\n",
    "vocab = sorted(set(text))\n",
    "print ('{} unique characters'.format(len(vocab)))"
   ]
  },
  {
   "cell_type": "code",
   "execution_count": 5,
   "metadata": {},
   "outputs": [
    {
     "name": "stdout",
     "output_type": "stream",
     "text": [
      "'\\n'   --->    0\n",
      "' '    --->    1\n",
      "'!'    --->    2\n",
      "'$'    --->    3\n",
      "'&'    --->    4\n",
      "\"'\"    --->    5\n",
      "','    --->    6\n",
      "'-'    --->    7\n",
      "'.'    --->    8\n",
      "'3'    --->    9\n",
      "':'    --->   10\n",
      "';'    --->   11\n",
      "'?'    --->   12\n",
      "'A'    --->   13\n",
      "'B'    --->   14\n",
      "'C'    --->   15\n",
      "'D'    --->   16\n",
      "'E'    --->   17\n",
      "'F'    --->   18\n",
      "'G'    --->   19\n",
      "First Citi --- characters mapped to int --- > [18 47 56 57 58  1 15 47 58 47]\n"
     ]
    }
   ],
   "source": [
    "# Creating a mapping from unique characters to indices\n",
    "vocab_to_ind = {c: i for i, c in enumerate(vocab)}\n",
    "ind_to_vocab = dict(enumerate(vocab))\n",
    "text_as_int = np.array([vocab_to_ind[c] for c in text], dtype=np.int32)\n",
    "\n",
    "# We mapped the character as indexes from 0 to len(vocab)\n",
    "for char,_ in zip(vocab_to_ind, range(20)):\n",
    "    print('{:6s} ---> {:4d}'.format(repr(char), vocab_to_ind[char]))\n",
    "# Show how the first 10 characters from the text are mapped to integers\n",
    "print ('{} --- characters mapped to int --- > {}'.format(text[:10], text_as_int[:10]))"
   ]
  },
  {
   "cell_type": "markdown",
   "metadata": {},
   "source": [
    "## Part 2: Creating batches\n",
    "Now that we have preprocessed our input data, we then need to partition our data, here we will use mini-batches to train our model, so how will we define our batches?\n",
    "\n",
    "Let's first clarify the concepts of batches:\n",
    "1. **batch_size**: Reviewing batches in CNN, if we have 100 samples and we set batch_size as 10, it means that we will send 10 samples to the network at one time. In RNN, batch_size have the same meaning, it defines how many samples we send to the network at one time.\n",
    "2. **sequence_length**: However, as for RNN, we store memory in our cells, we pass the information through cells, so we have this sequence_length concept, which also called 'steps', it defines how long a sequence is.\n",
    "\n",
    "From above two concepts, we here clarify the meaning of batch_size in RNN. Here, we define the number of sequences in a batch as N and the length of each sequence as M, so batch_size in RNN **still** represent the number of sequences in a batch but the data size of a batch is actually an array of size **[N, M]**."
   ]
  },
  {
   "cell_type": "markdown",
   "metadata": {},
   "source": [
    "<span style=\"color:red\">TODO:</span>\n",
    "finish the get_batches() function below to generate mini-batches.\n",
    "\n",
    "Hint: this function defines a generator, use *yield*."
   ]
  },
  {
   "cell_type": "code",
   "execution_count": 6,
   "metadata": {},
   "outputs": [],
   "source": [
    "def get_batches(array, n_seqs, n_steps):\n",
    "    '''\n",
    "    Partition data array into mini-batches\n",
    "    input:\n",
    "    array: input data\n",
    "    n_seqs: number of sequences in a batch\n",
    "    n_steps: length of each sequence\n",
    "    output:\n",
    "    x: inputs\n",
    "    y: targets, which is x with one position shift\n",
    "       you can check the following figure to get the sence of what a target looks like\n",
    "    '''\n",
    "    batch_size = n_seqs * n_steps\n",
    "    n_batches = int(len(array) / batch_size)\n",
    "    # we only keep the full batches and ignore the left.\n",
    "    array = array[:batch_size * n_batches]\n",
    "    array = array.reshape((n_seqs, -1))\n",
    "    \n",
    "    # You should now create a loop to generate batches for inputs and targets\n",
    "    #############################################\n",
    "    #           TODO: YOUR CODE HERE            #\n",
    "    #############################################\n",
    "    count = 0\n",
    "    while True:\n",
    "        if (count < n_batches-1):\n",
    "            index = count * n_steps\n",
    "            count = count + 1\n",
    "            index_next = count * n_steps\n",
    "            yield array[:,index:index_next], array[:,index+1:index_next+1]\n",
    "        else:\n",
    "            count = 0"
   ]
  },
  {
   "cell_type": "code",
   "execution_count": 7,
   "metadata": {},
   "outputs": [
    {
     "name": "stdout",
     "output_type": "stream",
     "text": [
      "x\n",
      " [[18 47 56 57 58  1 15 47 58 47]\n",
      " [ 1 43 52 43 51 63 11  0 37 43]\n",
      " [52 58 43 42  1 60 47 56 58 59]\n",
      " [56 44 53 50 49  6  0 27 52  1]\n",
      " [47 52  1 57 54 47 58 43  1 53]\n",
      " [56 57  6  1 39 52 42  1 57 58]\n",
      " [46 47 51  1 42 53 61 52  1 58]\n",
      " [ 1 40 43 43 52  1 57 47 52 41]\n",
      " [50 58 57  1 51 39 63  1 57 46]\n",
      " [57 47 53 52  1 53 44  1 56 43]]\n",
      "\n",
      "y\n",
      " [[47 56 57 58  1 15 47 58 47 64]\n",
      " [43 52 43 51 63 11  0 37 43 58]\n",
      " [58 43 42  1 60 47 56 58 59 43]\n",
      " [44 53 50 49  6  0 27 52  1 54]\n",
      " [52  1 57 54 47 58 43  1 53 44]\n",
      " [57  6  1 39 52 42  1 57 58 39]\n",
      " [47 51  1 42 53 61 52  1 58 53]\n",
      " [40 43 43 52  1 57 47 52 41 43]\n",
      " [58 57  1 51 39 63  1 57 46 39]\n",
      " [47 53 52  1 53 44  1 56 43 60]]\n"
     ]
    }
   ],
   "source": [
    "batches = get_batches(text_as_int, 10, 10)\n",
    "x, y = next(batches)\n",
    "print('x\\n', x[:10, :10])\n",
    "print('\\ny\\n', y[:10, :10])"
   ]
  },
  {
   "cell_type": "markdown",
   "metadata": {},
   "source": [
    "## Part 3: Build Char-RNN model\n",
    "In this section, we will build our char-rnn model, it consists of input layer, rnn_cell layer, output layer, loss and optimizer, we will build them one by one.\n",
    "\n",
    "The goal is to predict new text after given prime word, so for our training data, we have to define inputs and targets, here is a figure that explains the structure of the Char-RNN network.\n",
    "\n",
    "![structure](img/charrnn.jpg)"
   ]
  },
  {
   "cell_type": "markdown",
   "metadata": {},
   "source": [
    "<span style=\"color:red\">TODO:</span>\n",
    "finish all TODOs in ecbm4040.CharRNN and the blanks in the following cells.\n",
    "\n",
    "**Note: The training process on following settings of parameters takes about 20 minutes on a GTX 1070 GPU, so you are suggested to use GCP for this task.**"
   ]
  },
  {
   "cell_type": "code",
   "execution_count": 8,
   "metadata": {},
   "outputs": [],
   "source": [
    "from ecbm4040.CharRNN import *"
   ]
  },
  {
   "cell_type": "markdown",
   "metadata": {},
   "source": [
    "### Training\n",
    "Set sampling as False(default), we can start training the network, we automatically save checkpoints in the folder /checkpoints."
   ]
  },
  {
   "cell_type": "code",
   "execution_count": 9,
   "metadata": {},
   "outputs": [],
   "source": [
    "# these are preset parameters, you can change them to get better result\n",
    "batch_size = 100         # Sequences per batch\n",
    "num_steps = 100          # Number of sequence steps per batch\n",
    "rnn_size = 256           # Size of hidden layers in rnn_cell\n",
    "num_layers = 2           # Number of hidden layers\n",
    "learning_rate = 0.005    # Learning rate"
   ]
  },
  {
   "cell_type": "code",
   "execution_count": 11,
   "metadata": {
    "scrolled": true
   },
   "outputs": [
    {
     "name": "stdout",
     "output_type": "stream",
     "text": [
      "step: 200  loss: 2.1588  0.1017 sec/batch\n",
      "step: 400  loss: 1.7505  0.0918 sec/batch\n",
      "step: 600  loss: 1.6490  0.0928 sec/batch\n",
      "step: 800  loss: 1.5370  0.0947 sec/batch\n",
      "step: 1000  loss: 1.4581  0.0947 sec/batch\n",
      "step: 1200  loss: 1.4119  0.0967 sec/batch\n",
      "step: 1400  loss: 1.3556  0.0957 sec/batch\n",
      "step: 1600  loss: 1.3140  0.0947 sec/batch\n",
      "step: 1800  loss: 1.3287  0.0948 sec/batch\n",
      "step: 2000  loss: 1.3004  0.0957 sec/batch\n",
      "step: 2200  loss: 1.3125  0.0947 sec/batch\n",
      "step: 2400  loss: 1.2702  0.0928 sec/batch\n",
      "step: 2600  loss: 1.2601  0.0957 sec/batch\n",
      "step: 2800  loss: 1.2962  0.0947 sec/batch\n",
      "step: 3000  loss: 1.2568  0.0928 sec/batch\n",
      "step: 3200  loss: 1.2473  0.0987 sec/batch\n",
      "step: 3400  loss: 1.2212  0.0958 sec/batch\n",
      "step: 3600  loss: 1.2015  0.0937 sec/batch\n",
      "step: 3800  loss: 1.1923  0.0957 sec/batch\n",
      "step: 4000  loss: 1.1978  0.0967 sec/batch\n",
      "step: 4200  loss: 1.1839  0.0947 sec/batch\n",
      "step: 4400  loss: 1.2163  0.0967 sec/batch\n",
      "step: 4600  loss: 1.1727  0.0937 sec/batch\n",
      "step: 4800  loss: 1.1692  0.0937 sec/batch\n",
      "step: 5000  loss: 1.2289  0.0947 sec/batch\n",
      "step: 5200  loss: 1.1719  0.0938 sec/batch\n",
      "step: 5400  loss: 1.1806  0.0937 sec/batch\n",
      "step: 5600  loss: 1.1502  0.0947 sec/batch\n",
      "step: 5800  loss: 1.1529  0.0937 sec/batch\n",
      "step: 6000  loss: 1.1349  0.0958 sec/batch\n"
     ]
    }
   ],
   "source": [
    "model = CharRNN(len(vocab), batch_size, num_steps, 'LSTM', rnn_size,\n",
    "               num_layers, learning_rate)\n",
    "batches = get_batches(text_as_int, batch_size, num_steps)\n",
    "model.train(batches, 6000, 2000)"
   ]
  },
  {
   "cell_type": "code",
   "execution_count": 12,
   "metadata": {},
   "outputs": [
    {
     "data": {
      "text/plain": [
       "model_checkpoint_path: \"checkpoints\\\\i6000_l256_LSTM.ckpt\"\n",
       "all_model_checkpoint_paths: \"checkpoints\\\\i2000_l256_LSTM.ckpt\"\n",
       "all_model_checkpoint_paths: \"checkpoints\\\\i4000_l256_LSTM.ckpt\"\n",
       "all_model_checkpoint_paths: \"checkpoints\\\\i6000_l256_LSTM.ckpt\""
      ]
     },
     "execution_count": 12,
     "metadata": {},
     "output_type": "execute_result"
    }
   ],
   "source": [
    "# look up checkpoints\n",
    "tf.train.get_checkpoint_state('checkpoints')"
   ]
  },
  {
   "cell_type": "markdown",
   "metadata": {},
   "source": [
    "### Sampling\n",
    "Set the sampling as True and we can generate new characters one by one. We can use our saved checkpoints to see how the network learned gradually."
   ]
  },
  {
   "cell_type": "code",
   "execution_count": 28,
   "metadata": {
    "scrolled": false
   },
   "outputs": [
    {
     "name": "stdout",
     "output_type": "stream",
     "text": [
      "INFO:tensorflow:Restoring parameters from checkpoints\\i6000_l256_LSTM.ckpt\n",
      "vQQfQ-Q\n",
      ":f:\n",
      ":fvfQ\n",
      "\n",
      "--\n",
      "?:ffhf:\n",
      "\n",
      "Q::-Q:Q:\n",
      ":--::fQQ-:QffQ\n",
      "-?:Q--\n",
      "\n",
      "?-Q\n",
      "Qf:QQQ\n",
      "?Q\n",
      "-QfQfQ:f:\n",
      ":Q-:fffhh:fv:-::\n",
      "::QfQ:-\n",
      "-??fQQ\n",
      "-?-\n",
      "\n",
      "\n",
      ":f:QQ-:fQQfQfhfh:Q:fhh:::-QQ:\n",
      "---:-?--:QfQQ--::Q-::\n",
      "--\n",
      ":\n",
      "Q-?--?fhfvQfvfQ:QQ\n",
      ":\n",
      "?:Q:fv-:fh\n",
      "Q:QQQ:-:fhQ:\n",
      "--\n",
      "??--\n",
      "\n",
      ":-Q:Q-Q::fv-\n",
      "-:fv\n",
      "Q:Q\n",
      "-Q\n",
      "---?QQQ:-???:Q-QQfQ:---:-\n",
      ":\n",
      "QQ:fv:fhhh::\n",
      "\n",
      "\n",
      "\n",
      "???fh\n",
      "::-?-QQf:Q\n",
      ":-:Q-?:-:QfhQ-::\n",
      "Q--\n",
      "\n",
      "Q\n",
      "Q\n",
      "-:\n",
      "Q\n",
      ":--:fhff:Q--Q::\n",
      "?-QQ\n",
      "?::fhQQ\n",
      ":ffQ:QfhhhfQfQfv:-\n",
      "-Q:\n",
      "Q:\n",
      "-::-?f:\n",
      "?:::fQ\n",
      ":Q:fv\n",
      "?fQQ:QQ\n",
      "?:\n",
      "--Q\n",
      "Q-?-??fQQ:\n",
      "\n",
      "Q:\n",
      "?ffhf::-Q\n",
      ":\n",
      "-?Q:fhf:fv\n",
      "-Q-\n",
      ":Q:\n",
      "?fQQ-::\n",
      "\n",
      ":fhffhQ-Qfh:QQQQfQff:ffh\n",
      "-:fh\n",
      ":\n",
      ":\n",
      "Q\n",
      "\n",
      "-QQ:ffhQ:\n",
      ":Qf:-Q:Q\n",
      ":-Q\n",
      "\n",
      ":f::Qff:Qff:fvQ\n",
      "QQ:f:\n",
      "-:QQQ-:f:\n",
      "\n",
      "-Q-??Q:QQ-Qffv::::-::fhfhh:fQ:\n",
      "::-:::Qfh\n",
      "Q::\n",
      "::::\n",
      "?-\n",
      "\n",
      ":QQ-Q\n",
      "-::\n",
      "QQQffffh\n",
      "-?f:Q-\n",
      "\n",
      "\n",
      "?:-\n",
      "Q\n",
      "\n",
      "\n",
      ":QQQf:-Q\n",
      ":Q--\n",
      "\n",
      "---\n",
      "-\n",
      "\n",
      "QQ:f:::fhf:f:\n",
      "\n",
      "Q:\n",
      "\n",
      "-QQQQ:QfQQ-Q:Qfh\n",
      "\n",
      "--\n",
      "-QQ-Q\n",
      "::::f:f:Q:-?fQ-:--::fv--Q\n",
      ":ff:-?fvQ-?-:Q---?fh:Qffh\n",
      "---:f:ffh:-:-\n",
      "Q:::fv::\n",
      "---\n",
      "::\n",
      "\n",
      "Q\n",
      "??f:Q\n",
      "??:-:Q:\n",
      "-\n",
      "Q-:Q\n",
      ":QQQfhfQfQ-QQ\n",
      ":\n",
      "Q\n",
      "?-::::fh:--QQ:\n",
      "-QQQ-?ffh\n",
      "\n",
      "--:\n",
      "QfhhQ\n",
      "QQ\n",
      "\n",
      "Q:fvQfQfQQ---?:--\n",
      "\n",
      ":::-Qfvffhh:QQ\n",
      "?-?:f:\n",
      "\n",
      ":-Q--:-\n",
      "Q-?-Q\n",
      "QQQ-\n",
      "\n",
      "-:fvf:QfQ:fv:fffh\n",
      ":\n",
      "?:Q\n"
     ]
    }
   ],
   "source": [
    "model = CharRNN(len(vocab), batch_size, num_steps,'LSTM', rnn_size,\n",
    "               num_layers, learning_rate, sampling=True)\n",
    "# choose the last checkpoint and generate new text\n",
    "checkpoint = tf.train.latest_checkpoint('checkpoints')\n",
    "samp = model.sample(checkpoint, 1000, len(vocab), vocab_to_ind, ind_to_vocab, prime=\"LORD \")\n",
    "print(samp)"
   ]
  },
  {
   "cell_type": "code",
   "execution_count": 27,
   "metadata": {
    "scrolled": true
   },
   "outputs": [
    {
     "name": "stdout",
     "output_type": "stream",
     "text": [
      "INFO:tensorflow:Restoring parameters from checkpoints\\i4000_l256_LSTM.ckpt\n",
      "Hnr\n",
      "nkIV\n",
      "kV\n",
      "\n",
      "ddrkVdr\n",
      "rkkIaUdr\n",
      "rdknndnndrkkInIaddnrdddrddUk\n",
      "\n",
      "r\n",
      "nr\n",
      "ddUVkIknkVdUndnkVnIk\n",
      "ndnkV\n",
      "nIIIVdUZnrddrk\n",
      "\n",
      "r\n",
      "knnnkIa\n",
      "rrk\n",
      "rdnndkIndrdkk\n",
      "k\n",
      "r\n",
      "drk\n",
      "nrdndrnIV\n",
      "ndrnkIVkkk\n",
      "rkkVkVdndndrnIV\n",
      "rkknkVdddnnIIadnnnnndUV\n",
      "\n",
      "\n",
      "k\n",
      "rdUnkndrrnndrnknnrkVkVknrnk\n",
      "\n",
      "k\n",
      "rnnrnIkV\n",
      "nkIVdUnIIIakkIkIV'UkIV'kIanrrnrndnnr\n",
      "\n",
      "drrdkIVdrnr\n",
      "nIV'ndknnkkVknr\n",
      "dnkndnnIknkndUkVdUdnkV\n",
      "knnIVkknndnIkVnrk\n",
      "\n",
      "drndr\n",
      "nk\n",
      "\n",
      "\n",
      "nnIIannnknddUZUknrdUndk\n",
      "r\n",
      "dnrdrrndr\n",
      "rrkVnnrnIndUkkV\n",
      "kkk\n",
      "\n",
      "ndkV'VnnnInr\n",
      "nnrnkVkVdr\n",
      "dndUndnrkkkkIkIIankkVnnrrnddddk\n",
      "\n",
      "rndrrdndrdndnIanrddndUV\n",
      "nrnnnknkndk\n",
      "\n",
      "\n",
      "\n",
      "nIIVnIkIknIk\n",
      "\n",
      "nr\n",
      "kIVdUZnknkV\n",
      "rrkIIkIIa\n",
      "\n",
      "r\n",
      "dkkIIak\n",
      "dkVnkknIkIk\n",
      "drdUdndkIa\n",
      "rdrrnr\n",
      "nIaUZUVnrnnkV\n",
      "kIadrkIankInkkVkndrnkV'nnrndrrrdnndUdrnnnInknnIV\n",
      "rnkndkIak\n",
      "r\n",
      "k\n",
      "rkVddddnr\n",
      "kVddddnIVnkV\n",
      "nIk\n",
      "\n",
      "\n",
      "dndrkIa\n",
      "nnkVk\n",
      "k\n",
      "nknk\n",
      "dUdUdkVdkIV'kInk\n",
      "rrrnInrnrkk\n",
      "nInk\n",
      "k\n",
      "\n",
      "\n",
      "nddUZkIadUkndnrnIV'dUk\n",
      "kIaUZIVnr\n",
      "kVknknddnIkkVnnIVdr\n",
      "dUdr\n",
      "nIa\n",
      "ddUkV\n",
      "r\n",
      "rk\n",
      "dr\n",
      "nkVndkkInrddUnnrdnnkkV'dnnndnnrrknIadr\n",
      "nInkIkV\n",
      "k\n",
      "kkVnIVk\n",
      "rknIInIndkIIIankV'UdrrrnIndUdrndkV'kkknrnInkk\n",
      "rrkV'Udkk\n",
      "kkVdUZrndUdndrknnInndnIkndnddnIa\n",
      "kVkkIIkIV\n",
      "dr\n"
     ]
    }
   ],
   "source": [
    "# choose a checkpoint other than the final one and see the results. It could be nasty, don't worry!\n",
    "#############################################\n",
    "#           TODO: YOUR CODE HERE            #\n",
    "#############################################\n",
    "checkpoint = 'checkpoints\\i4000_l256_LSTM.ckpt'\n",
    "samp = model.sample(checkpoint, 1000, len(vocab), vocab_to_ind, ind_to_vocab, prime=\"LORD \")\n",
    "print(samp)"
   ]
  },
  {
   "cell_type": "markdown",
   "metadata": {},
   "source": [
    "### Change another type of RNN cell\n",
    "We are using LSTM cell as the original work, but GRU cell is getting more popular today, let's chage the cell in rnn_cell layer to GRU cell and see how it performs. Your number of step should be the same as above."
   ]
  },
  {
   "cell_type": "markdown",
   "metadata": {},
   "source": [
    "**Note: You need to change your saved checkpoints' name or they will rewrite the LSTM results that you have already saved.**"
   ]
  },
  {
   "cell_type": "code",
   "execution_count": 28,
   "metadata": {},
   "outputs": [
    {
     "name": "stdout",
     "output_type": "stream",
     "text": [
      "step: 200  loss: 1.8857  0.0947 sec/batch\n",
      "step: 400  loss: 1.5841  0.0947 sec/batch\n",
      "step: 600  loss: 1.5242  0.0957 sec/batch\n",
      "step: 800  loss: 1.4287  0.0947 sec/batch\n",
      "step: 1000  loss: 1.3806  0.0957 sec/batch\n",
      "step: 1200  loss: 1.3095  0.0947 sec/batch\n",
      "step: 1400  loss: 1.2732  0.0957 sec/batch\n",
      "step: 1600  loss: 1.2519  0.0947 sec/batch\n",
      "step: 1800  loss: 1.2442  0.0977 sec/batch\n",
      "step: 2000  loss: 1.2283  0.0928 sec/batch\n",
      "step: 2200  loss: 1.2558  0.0937 sec/batch\n",
      "step: 2400  loss: 1.2050  0.0967 sec/batch\n",
      "step: 2600  loss: 1.1946  0.0977 sec/batch\n",
      "step: 2800  loss: 1.2570  0.0967 sec/batch\n",
      "step: 3000  loss: 1.2130  0.0957 sec/batch\n",
      "step: 3200  loss: 1.2075  0.0947 sec/batch\n",
      "step: 3400  loss: 1.1821  0.0937 sec/batch\n",
      "step: 3600  loss: 1.1744  0.0957 sec/batch\n",
      "step: 3800  loss: 1.1452  0.0957 sec/batch\n",
      "step: 4000  loss: 1.1615  0.0967 sec/batch\n",
      "step: 4200  loss: 1.1536  0.0967 sec/batch\n",
      "step: 4400  loss: 1.1618  0.0937 sec/batch\n",
      "step: 4600  loss: 1.1497  0.0987 sec/batch\n",
      "step: 4800  loss: 1.1231  0.0937 sec/batch\n",
      "step: 5000  loss: 1.1739  0.0947 sec/batch\n",
      "step: 5200  loss: 1.1483  0.0977 sec/batch\n",
      "step: 5400  loss: 1.1559  0.0947 sec/batch\n",
      "step: 5600  loss: 1.1455  0.1037 sec/batch\n",
      "step: 5800  loss: 1.1245  0.0987 sec/batch\n",
      "step: 6000  loss: 1.1167  0.0928 sec/batch\n"
     ]
    }
   ],
   "source": [
    "# these are preset parameters, you can change them to get better result\n",
    "batch_size = 100         # Sequences per batch\n",
    "num_steps = 100          # Number of sequence steps per batch\n",
    "rnn_size = 256           # Size of hidden layers in rnn_cell\n",
    "num_layers = 2           # Number of hidden layers\n",
    "learning_rate = 0.005    # Learning rate\n",
    "\n",
    "model = CharRNN(len(vocab), batch_size, num_steps, 'GRU', rnn_size,\n",
    "               num_layers, learning_rate)\n",
    "batches = get_batches(text_as_int, batch_size, num_steps)\n",
    "model.train(batches, 6000, 2000)"
   ]
  },
  {
   "cell_type": "code",
   "execution_count": 33,
   "metadata": {
    "scrolled": false
   },
   "outputs": [
    {
     "name": "stdout",
     "output_type": "stream",
     "text": [
      "INFO:tensorflow:Restoring parameters from checkpoints\\i6000_l256_GRU.ckpt\n",
      "3jmZjym\n",
      "3Jc3Jjyy\n",
      "mZjxJmZymJcJcJyJjyjmyJJmZy\n",
      "y\n",
      "ym\n",
      "\n",
      "JJJcJjyyjJJmJJy\n",
      "yJjJjjyy\n",
      "my\n",
      "Jy\n",
      "yJcm\n",
      "yJcJmmyJc\n",
      "yy\n",
      "\n",
      "3JJmJJcy\n",
      "JcJcJjJmmymJjyyJmmZymymJJc3mJmmyJJjmZyy\n",
      "yjyjmZmmZ\n",
      "yyJm\n",
      "3ymJJmmmm\n",
      "3\n",
      "m\n",
      "3\n",
      "\n",
      "myjJcyjyJyyyjyjx\n",
      "m\n",
      "ymy\n",
      "3y\n",
      "yJjxmyJJJmyyyJyyjjjm\n",
      "3m\n",
      "Jyyjm\n",
      "JmZyjJJmJy\n",
      "3ymZyyy\n",
      "y\n",
      "yjy\n",
      "\n",
      "3mZmy\n",
      "m\n",
      "yyJyy\n",
      "JmyjxjjJyyyjxVyJy\n",
      "y\n",
      "mZymy\n",
      "3Jc3\n",
      "3\n",
      "3jy\n",
      "JJyjxmy\n",
      "3Jjm\n",
      "yJmZ\n",
      "JjxV\n",
      "mJJjjy\n",
      "\n",
      "myJJJyJJJmZmyJcmy\n",
      "y\n",
      "yJJcJJjmmyyJyjm\n",
      "my\n",
      "mJmJmmym\n",
      "mJymJjjJJc3Jc\n",
      "ymyyy\n",
      "Jyjjmyjxjjyyjy\n",
      "\n",
      "Jyjjjy\n",
      "\n",
      "Jc3\n",
      "3yjyjJmJmmJjm\n",
      "mJjxm\n",
      "Jjm\n",
      "mJcJJcyjmymyJm\n",
      "\n",
      "Jjy\n",
      "\n",
      "JcymmZmmyjjmyjJm\n",
      "mmZyJyJm\n",
      "\n",
      "mm\n",
      "yjmJmmmJmZmJc\n",
      "3Jc\n",
      "JJmZJcymZjmZmmyymmJym\n",
      "yJyJmJjJjjjJjyymJcmZymZyjJjjxmJjxjm\n",
      "3mmZmJc\n",
      "\n",
      "3mmm\n",
      "JyymJc\n",
      "\n",
      "JJmyyJy\n",
      "\n",
      "JyyJJjjmJjxVJyJyJcJc3jxVyyyJJyjym\n",
      "yjyjyyjx\n",
      "myJcmm\n",
      "JjjmmJcy\n",
      "3yjJcmyjjm\n",
      "\n",
      "JjymyjxJcmm\n",
      "3jyjxjxJjjmm\n",
      "3JJmZ\n",
      "mm\n",
      "yjy\n",
      "mZ\n",
      "JmJymZjy\n",
      "JcymZyyJmZyJJmyJcJc3JcmyyJjJmy\n",
      "y\n",
      "JmZmZJcyJy\n",
      "Jc\n",
      "mJyjmyJmyyyy\n",
      "myyJcJyJyyJc3mJjjxjJm\n",
      "3\n",
      "mJy\n",
      "Jc\n",
      "yymJc3m\n",
      "ymZm\n",
      "\n",
      "ym\n",
      "mZ\n",
      "\n",
      "y\n",
      "3\n",
      "ym\n",
      "mZmZymJjxmZ\n",
      "3yJjy\n",
      "3\n",
      "yyymyyjmJjm\n",
      "mm\n",
      "\n",
      "3jJmZjmmJm\n",
      "\n",
      "JJyJjJjymJJjjxVJjyjJymJjy\n",
      "JJjx\n",
      "y\n",
      "3yyymyyjyyjymyjxVm\n",
      "\n",
      "JmymJjyjmm\n",
      "mZjjxjmmmmmmZJymmZmJym\n",
      "ym\n"
     ]
    }
   ],
   "source": [
    "model = CharRNN(len(vocab), batch_size, num_steps, 'GRU', rnn_size,\n",
    "               num_layers, learning_rate, sampling=True)\n",
    "# choose the last checkpoint and generate new text\n",
    "checkpoint = tf.train.latest_checkpoint('checkpoints')\n",
    "samp = model.sample(checkpoint, 1000, len(vocab), vocab_to_ind, ind_to_vocab, prime=\"LORD \")\n",
    "print(samp)"
   ]
  },
  {
   "cell_type": "markdown",
   "metadata": {},
   "source": [
    "#### Questions\n",
    "1. Compare your result of two networks that you built and the reasons that caused the difference. (It is a qualitative comparison, it should be based on the specific model that you build.)\n",
    "2. Discuss the difference between LSTM cells and GRU cells, what are the pros and cons of using GRU cells?"
   ]
  },
  {
   "cell_type": "markdown",
   "metadata": {},
   "source": [
    "Answer:\n",
    "**Fill in here.**"
   ]
  }
 ],
 "metadata": {
  "kernelspec": {
   "display_name": "Python 3",
   "language": "python",
   "name": "python3"
  },
  "language_info": {
   "codemirror_mode": {
    "name": "ipython",
    "version": 3
   },
   "file_extension": ".py",
   "mimetype": "text/x-python",
   "name": "python",
   "nbconvert_exporter": "python",
   "pygments_lexer": "ipython3",
   "version": "3.6.7"
  }
 },
 "nbformat": 4,
 "nbformat_minor": 2
}
