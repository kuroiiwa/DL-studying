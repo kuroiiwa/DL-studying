{
 "cells": [
  {
   "cell_type": "markdown",
   "metadata": {},
   "source": [
    "# Task 2: Char-RNN"
   ]
  },
  {
   "cell_type": "markdown",
   "metadata": {},
   "source": [
    "Char-RNN implements multi-layer Recurrent Neural Network (RNN, LSTM, and GRU) for training/sampling from character-level language models. In other words the model takes one text file as input and trains a Recurrent Neural Network that learns to predict the next character in a sequence. The RNN can then be used to generate text character by character that will look like the original training data. This network is first posted by Andrej Karpathy, you can find out about his original code on https://github.com/karpathy/char-rnn, the original code is written in *lua*."
   ]
  },
  {
   "cell_type": "markdown",
   "metadata": {},
   "source": [
    "Here we will implement Char-RNN using Tensorflow!"
   ]
  },
  {
   "cell_type": "code",
   "execution_count": 1,
   "metadata": {},
   "outputs": [],
   "source": [
    "import time\n",
    "import numpy as np\n",
    "import tensorflow as tf\n",
    "\n",
    "# Notebook auto reloads code. (Ref: http://stackoverflow.com/questions/1907993/autoreload-of-modules-in-ipython)\n",
    "%load_ext autoreload\n",
    "%autoreload 2"
   ]
  },
  {
   "cell_type": "markdown",
   "metadata": {},
   "source": [
    "## Part 1: Setup\n",
    "In this part, we will read the data of our input text and process the text for later network training. There are two txt files in the data folder, for computing time consideration, we will use tinyshakespeare.txt here."
   ]
  },
  {
   "cell_type": "code",
   "execution_count": 2,
   "metadata": {},
   "outputs": [
    {
     "name": "stdout",
     "output_type": "stream",
     "text": [
      "Length of text: 1115394 characters\n",
      "First Citizen:\n",
      "Before we proceed any further, hear me speak.\n",
      "\n",
      "All:\n",
      "Speak, speak.\n",
      "\n",
      "First Citizen:\n",
      "You are all resolved rather to die than to famish?\n",
      "\n",
      "All:\n",
      "Resolved. resolved.\n",
      "\n",
      "First Citizen:\n",
      "First, you know Caius Marcius is chief enemy to the people.\n",
      "\n",
      "All:\n",
      "We know't, we know't.\n",
      "\n",
      "First Citizen:\n",
      "Let us kill him, and we'll have corn at our own price.\n",
      "Is't a verdict?\n",
      "\n",
      "All:\n",
      "No more talking on't; let it be done: away, away!\n",
      "\n",
      "Second Citizen:\n",
      "One word, good citizens.\n",
      "\n",
      "First Citizen:\n",
      "We are accounted poor\n"
     ]
    }
   ],
   "source": [
    "with open('data/tinyshakespeare.txt', 'r') as f:\n",
    "    text=f.read()\n",
    "# length of text is the number of characters in it\n",
    "print('Length of text: {} characters'.format(len(text)))\n",
    "# and let's get a glance of what the text is\n",
    "print(text[:500])"
   ]
  },
  {
   "cell_type": "code",
   "execution_count": 3,
   "metadata": {},
   "outputs": [
    {
     "name": "stdout",
     "output_type": "stream",
     "text": [
      "65 unique characters\n"
     ]
    }
   ],
   "source": [
    "# The unique characters in the file\n",
    "vocab = sorted(set(text))\n",
    "print ('{} unique characters'.format(len(vocab)))"
   ]
  },
  {
   "cell_type": "code",
   "execution_count": 4,
   "metadata": {},
   "outputs": [
    {
     "name": "stdout",
     "output_type": "stream",
     "text": [
      "'\\n'   --->    0\n",
      "' '    --->    1\n",
      "'!'    --->    2\n",
      "'$'    --->    3\n",
      "'&'    --->    4\n",
      "\"'\"    --->    5\n",
      "','    --->    6\n",
      "'-'    --->    7\n",
      "'.'    --->    8\n",
      "'3'    --->    9\n",
      "':'    --->   10\n",
      "';'    --->   11\n",
      "'?'    --->   12\n",
      "'A'    --->   13\n",
      "'B'    --->   14\n",
      "'C'    --->   15\n",
      "'D'    --->   16\n",
      "'E'    --->   17\n",
      "'F'    --->   18\n",
      "'G'    --->   19\n",
      "First Citi --- characters mapped to int --- > [18 47 56 57 58  1 15 47 58 47]\n"
     ]
    }
   ],
   "source": [
    "# Creating a mapping from unique characters to indices\n",
    "vocab_to_ind = {c: i for i, c in enumerate(vocab)}\n",
    "ind_to_vocab = dict(enumerate(vocab))\n",
    "text_as_int = np.array([vocab_to_ind[c] for c in text], dtype=np.int32)\n",
    "\n",
    "# We mapped the character as indexes from 0 to len(vocab)\n",
    "for char,_ in zip(vocab_to_ind, range(20)):\n",
    "    print('{:6s} ---> {:4d}'.format(repr(char), vocab_to_ind[char]))\n",
    "# Show how the first 10 characters from the text are mapped to integers\n",
    "print ('{} --- characters mapped to int --- > {}'.format(text[:10], text_as_int[:10]))"
   ]
  },
  {
   "cell_type": "markdown",
   "metadata": {},
   "source": [
    "## Part 2: Creating batches\n",
    "Now that we have preprocessed our input data, we then need to partition our data, here we will use mini-batches to train our model, so how will we define our batches?\n",
    "\n",
    "Let's first clarify the concepts of batches:\n",
    "1. **batch_size**: Reviewing batches in CNN, if we have 100 samples and we set batch_size as 10, it means that we will send 10 samples to the network at one time. In RNN, batch_size have the same meaning, it defines how many samples we send to the network at one time.\n",
    "2. **sequence_length**: However, as for RNN, we store memory in our cells, we pass the information through cells, so we have this sequence_length concept, which also called 'steps', it defines how long a sequence is.\n",
    "\n",
    "From above two concepts, we here clarify the meaning of batch_size in RNN. Here, we define the number of sequences in a batch as N and the length of each sequence as M, so batch_size in RNN **still** represent the number of sequences in a batch but the data size of a batch is actually an array of size **[N, M]**."
   ]
  },
  {
   "cell_type": "markdown",
   "metadata": {},
   "source": [
    "<span style=\"color:red\">TODO:</span>\n",
    "finish the get_batches() function below to generate mini-batches.\n",
    "\n",
    "Hint: this function defines a generator, use *yield*."
   ]
  },
  {
   "cell_type": "code",
   "execution_count": 5,
   "metadata": {},
   "outputs": [],
   "source": [
    "def get_batches(array, n_seqs, n_steps):\n",
    "    '''\n",
    "    Partition data array into mini-batches\n",
    "    input:\n",
    "    array: input data\n",
    "    n_seqs: number of sequences in a batch\n",
    "    n_steps: length of each sequence\n",
    "    output:\n",
    "    x: inputs\n",
    "    y: targets, which is x with one position shift\n",
    "       you can check the following figure to get the sence of what a target looks like\n",
    "    '''\n",
    "    batch_size = n_seqs * n_steps\n",
    "    n_batches = int(len(array) / batch_size)\n",
    "    # we only keep the full batches and ignore the left.\n",
    "    array = array[:batch_size * n_batches]\n",
    "    array = array.reshape((n_seqs, -1))\n",
    "    \n",
    "    # You should now create a loop to generate batches for inputs and targets\n",
    "    #############################################\n",
    "    #           TODO: YOUR CODE HERE            #\n",
    "    #############################################\n",
    "    count = 0\n",
    "    while True:\n",
    "        if (count < n_batches-1):\n",
    "            index = count * n_steps\n",
    "            count = count + 1\n",
    "            index_next = count * n_steps\n",
    "            yield array[:,index:index_next], array[:,index+1:index_next+1]\n",
    "        else:\n",
    "            count = 0"
   ]
  },
  {
   "cell_type": "code",
   "execution_count": 6,
   "metadata": {},
   "outputs": [
    {
     "name": "stdout",
     "output_type": "stream",
     "text": [
      "x\n",
      " [[18 47 56 57 58  1 15 47 58 47]\n",
      " [ 1 43 52 43 51 63 11  0 37 43]\n",
      " [52 58 43 42  1 60 47 56 58 59]\n",
      " [56 44 53 50 49  6  0 27 52  1]\n",
      " [47 52  1 57 54 47 58 43  1 53]\n",
      " [56 57  6  1 39 52 42  1 57 58]\n",
      " [46 47 51  1 42 53 61 52  1 58]\n",
      " [ 1 40 43 43 52  1 57 47 52 41]\n",
      " [50 58 57  1 51 39 63  1 57 46]\n",
      " [57 47 53 52  1 53 44  1 56 43]]\n",
      "\n",
      "y\n",
      " [[47 56 57 58  1 15 47 58 47 64]\n",
      " [43 52 43 51 63 11  0 37 43 58]\n",
      " [58 43 42  1 60 47 56 58 59 43]\n",
      " [44 53 50 49  6  0 27 52  1 54]\n",
      " [52  1 57 54 47 58 43  1 53 44]\n",
      " [57  6  1 39 52 42  1 57 58 39]\n",
      " [47 51  1 42 53 61 52  1 58 53]\n",
      " [40 43 43 52  1 57 47 52 41 43]\n",
      " [58 57  1 51 39 63  1 57 46 39]\n",
      " [47 53 52  1 53 44  1 56 43 60]]\n"
     ]
    }
   ],
   "source": [
    "batches = get_batches(text_as_int, 10, 10)\n",
    "x, y = next(batches)\n",
    "print('x\\n', x[:10, :10])\n",
    "print('\\ny\\n', y[:10, :10])"
   ]
  },
  {
   "cell_type": "markdown",
   "metadata": {},
   "source": [
    "## Part 3: Build Char-RNN model\n",
    "In this section, we will build our char-rnn model, it consists of input layer, rnn_cell layer, output layer, loss and optimizer, we will build them one by one.\n",
    "\n",
    "The goal is to predict new text after given prime word, so for our training data, we have to define inputs and targets, here is a figure that explains the structure of the Char-RNN network.\n",
    "\n",
    "![structure](img/charrnn.jpg)"
   ]
  },
  {
   "cell_type": "markdown",
   "metadata": {},
   "source": [
    "<span style=\"color:red\">TODO:</span>\n",
    "finish all TODOs in ecbm4040.CharRNN and the blanks in the following cells.\n",
    "\n",
    "**Note: The training process on following settings of parameters takes about 20 minutes on a GTX 1070 GPU, so you are suggested to use GCP for this task.**"
   ]
  },
  {
   "cell_type": "code",
   "execution_count": 7,
   "metadata": {},
   "outputs": [],
   "source": [
    "from ecbm4040.CharRNN import *"
   ]
  },
  {
   "cell_type": "markdown",
   "metadata": {},
   "source": [
    "### Training\n",
    "Set sampling as False(default), we can start training the network, we automatically save checkpoints in the folder /checkpoints."
   ]
  },
  {
   "cell_type": "code",
   "execution_count": 8,
   "metadata": {},
   "outputs": [],
   "source": [
    "# these are preset parameters, you can change them to get better result\n",
    "batch_size = 100         # Sequences per batch\n",
    "num_steps = 100          # Number of sequence steps per batch\n",
    "rnn_size = 256           # Size of hidden layers in rnn_cell\n",
    "num_layers = 2           # Number of hidden layers\n",
    "learning_rate = 0.005    # Learning rate"
   ]
  },
  {
   "cell_type": "code",
   "execution_count": 9,
   "metadata": {
    "scrolled": true
   },
   "outputs": [
    {
     "name": "stdout",
     "output_type": "stream",
     "text": [
      "step: 200  loss: 2.0375  0.0947 sec/batch\n",
      "step: 400  loss: 1.6684  0.0928 sec/batch\n",
      "step: 600  loss: 1.5869  0.0957 sec/batch\n",
      "step: 800  loss: 1.4759  0.0957 sec/batch\n",
      "step: 1000  loss: 1.4052  0.0937 sec/batch\n",
      "step: 1200  loss: 1.3484  0.0937 sec/batch\n",
      "step: 1400  loss: 1.2921  0.0957 sec/batch\n",
      "step: 1600  loss: 1.2614  0.0957 sec/batch\n",
      "step: 1800  loss: 1.2624  0.1077 sec/batch\n",
      "step: 2000  loss: 1.2281  0.0957 sec/batch\n",
      "step: 2200  loss: 1.2523  0.0947 sec/batch\n",
      "step: 2400  loss: 1.2198  0.0928 sec/batch\n",
      "step: 2600  loss: 1.1916  0.0947 sec/batch\n",
      "step: 2800  loss: 1.2319  0.0928 sec/batch\n",
      "step: 3000  loss: 1.1987  0.0947 sec/batch\n",
      "step: 3200  loss: 1.2022  0.0947 sec/batch\n",
      "step: 3400  loss: 1.1623  0.0938 sec/batch\n",
      "step: 3600  loss: 1.1458  0.0947 sec/batch\n",
      "step: 3800  loss: 1.1318  0.0957 sec/batch\n",
      "step: 4000  loss: 1.1435  0.0928 sec/batch\n",
      "step: 4200  loss: 1.1306  0.0948 sec/batch\n",
      "step: 4400  loss: 1.1525  0.0947 sec/batch\n",
      "step: 4600  loss: 1.1446  0.0977 sec/batch\n",
      "step: 4800  loss: 1.1132  0.0967 sec/batch\n",
      "step: 5000  loss: 1.1713  0.0928 sec/batch\n",
      "step: 5200  loss: 1.1233  0.0937 sec/batch\n",
      "step: 5400  loss: 1.1302  0.0967 sec/batch\n",
      "step: 5600  loss: 1.1094  0.0947 sec/batch\n",
      "step: 5800  loss: 1.0970  0.0918 sec/batch\n",
      "step: 6000  loss: 1.0760  0.0977 sec/batch\n"
     ]
    }
   ],
   "source": [
    "model = CharRNN(len(vocab), batch_size, num_steps, 'LSTM', rnn_size,\n",
    "               num_layers, learning_rate)\n",
    "batches = get_batches(text_as_int, batch_size, num_steps)\n",
    "model.train(batches, 6000, 3000)"
   ]
  },
  {
   "cell_type": "code",
   "execution_count": 14,
   "metadata": {},
   "outputs": [
    {
     "data": {
      "text/plain": [
       "model_checkpoint_path: \"checkpoints_whole\\\\i6000_l256_LSTM.ckpt\"\n",
       "all_model_checkpoint_paths: \"checkpoints_whole\\\\i3000_l256_LSTM.ckpt\"\n",
       "all_model_checkpoint_paths: \"checkpoints_whole\\\\i6000_l256_LSTM.ckpt\""
      ]
     },
     "execution_count": 14,
     "metadata": {},
     "output_type": "execute_result"
    }
   ],
   "source": [
    "# look up checkpoints\n",
    "tf.train.get_checkpoint_state('checkpoints_whole')"
   ]
  },
  {
   "cell_type": "markdown",
   "metadata": {},
   "source": [
    "### Sampling\n",
    "Set the sampling as True and we can generate new characters one by one. We can use our saved checkpoints to see how the network learned gradually."
   ]
  },
  {
   "cell_type": "code",
   "execution_count": 12,
   "metadata": {
    "scrolled": false
   },
   "outputs": [
    {
     "name": "stdout",
     "output_type": "stream",
     "text": [
      "INFO:tensorflow:Restoring parameters from checkpoints_whole\\i6000_l256_LSTM.ckpt\n",
      "A Lont,\n",
      "Standing it oft to be as she is their felsoon.\n",
      "\n",
      "KING RICHARD II:\n",
      "Ay, an the like the frowns the frantione of their brows.\n",
      "\n",
      "BENVOLIO:\n",
      "Well.\n",
      "\n",
      "COMINIUS:\n",
      "And then I did to stand alone, or we will, and\n",
      "the sun, he is a such as any thing the warranting in a\n",
      "brace and bring forsworrow, and the prison,\n",
      "The belly stars, was further by a crews.\n",
      "\n",
      "AUTOLYCUS:\n",
      "Then we had at the poor duke of senseles, shall was here\n",
      "which another becomes; and see the same such servanness\n",
      "I, that your father, therefore he is already.\n",
      "\n",
      "SEBASTIAN:\n",
      "I have so much born to the ground, and at a\n",
      "back, the streot that speaks to see him, and there be a\n",
      "servant to stand.\n",
      "\n",
      "CLARENCE:\n",
      "I have no charge; for I have been my father,\n",
      "Betwixted and speak and leave us, as have I said,\n",
      "Thousance the came of her with so be teached,\n",
      "In hope I am an and the high discompering hate;\n",
      "And thou wilt be a parties from thy bollies;\n",
      "And where I have no more attended and leave our soldiers.\n",
      "\n",
      "KATHARINA:\n",
      "I have no sour; I had as treasing wondr\n"
     ]
    }
   ],
   "source": [
    "model = CharRNN(len(vocab), batch_size, num_steps,'LSTM', rnn_size,\n",
    "               num_layers, learning_rate, sampling=True)\n",
    "# choose the last checkpoint and generate new text\n",
    "checkpoint = tf.train.latest_checkpoint('checkpoints_whole')\n",
    "samp = model.sample(checkpoint, 1000, len(vocab), vocab_to_ind, ind_to_vocab, prime=\"LORD \")\n",
    "print(samp)"
   ]
  },
  {
   "cell_type": "code",
   "execution_count": 15,
   "metadata": {
    "scrolled": true
   },
   "outputs": [
    {
     "name": "stdout",
     "output_type": "stream",
     "text": [
      "INFO:tensorflow:Restoring parameters from checkpoints_whole\\i3000_l256_LSTM.ckpt\n",
      "ROME:\n",
      "Thyself his lunks to him that shall but wear.\n",
      "\n",
      "KING RICHARD III:\n",
      "I am, my good words.\n",
      "\n",
      "AUTOLYCUS:\n",
      "I would the prince whose house.\n",
      "\n",
      "AUTOLYCUS:\n",
      "I think there's a man; sirs and true stocks a choose\n",
      "befellow me. I will be string which thou art a crown,\n",
      "Which shall be she will show. I here no people,\n",
      "And washing on thy hearts of hearts that with\n",
      "That a thoughts of thine ere I see him.\n",
      "\n",
      "PAULINA:\n",
      "I have, madam.\n",
      "\n",
      "LUCIO:\n",
      "They have made a tongue well allowing; then the common of his taught\n",
      "on my sword south as words in pate of state\n",
      "Bring or to the sound.\n",
      "\n",
      "CAMILLO:\n",
      "I am thought: but I'll be changed, sir; he as he\n",
      "constants. I am not allied and any thing.\n",
      "\n",
      "CAMILLO:\n",
      "Why, sir; you are seen to had this foreage.\n",
      "\n",
      "CORIOLANUS:\n",
      "Think you, what seats to make an offence?\n",
      "\n",
      "Post:\n",
      "See, my sorrow, but here in my tale bething them\n",
      "To say was, that they should be pray'd, and she,\n",
      "Though, all this bride o' the cause. This is a fearful\n",
      "thence of mild and fieride.\n",
      "\n",
      "POLIXENES:\n",
      "We should thy heart shows to sou\n"
     ]
    }
   ],
   "source": [
    "# choose a checkpoint other than the final one and see the results. It could be nasty, don't worry!\n",
    "#############################################\n",
    "#           TODO: YOUR CODE HERE            #\n",
    "#############################################\n",
    "checkpoint = 'checkpoints_whole\\i3000_l256_LSTM.ckpt'\n",
    "samp = model.sample(checkpoint, 1000, len(vocab), vocab_to_ind, ind_to_vocab, prime=\"LORD \")\n",
    "print(samp)"
   ]
  },
  {
   "cell_type": "markdown",
   "metadata": {},
   "source": [
    "### Change another type of RNN cell\n",
    "We are using LSTM cell as the original work, but GRU cell is getting more popular today, let's chage the cell in rnn_cell layer to GRU cell and see how it performs. Your number of step should be the same as above."
   ]
  },
  {
   "cell_type": "markdown",
   "metadata": {},
   "source": [
    "**Note: You need to change your saved checkpoints' name or they will rewrite the LSTM results that you have already saved.**"
   ]
  },
  {
   "cell_type": "code",
   "execution_count": 17,
   "metadata": {},
   "outputs": [
    {
     "name": "stdout",
     "output_type": "stream",
     "text": [
      "step: 200  loss: 1.8813  0.0967 sec/batch\n",
      "step: 400  loss: 1.5804  0.0928 sec/batch\n",
      "step: 600  loss: 1.5410  0.0967 sec/batch\n",
      "step: 800  loss: 1.4298  0.0937 sec/batch\n",
      "step: 1000  loss: 1.3850  0.0928 sec/batch\n",
      "step: 1200  loss: 1.3151  0.0938 sec/batch\n",
      "step: 1400  loss: 1.2840  0.0937 sec/batch\n",
      "step: 1600  loss: 1.2503  0.0957 sec/batch\n",
      "step: 1800  loss: 1.2598  0.0918 sec/batch\n",
      "step: 2000  loss: 1.2268  0.0928 sec/batch\n",
      "step: 2200  loss: 1.2452  0.0918 sec/batch\n",
      "step: 2400  loss: 1.2280  0.0928 sec/batch\n",
      "step: 2600  loss: 1.1902  0.0957 sec/batch\n",
      "step: 2800  loss: 1.2579  0.0918 sec/batch\n",
      "step: 3000  loss: 1.2043  0.0928 sec/batch\n",
      "step: 3200  loss: 1.2034  0.0928 sec/batch\n",
      "step: 3400  loss: 1.1905  0.0977 sec/batch\n",
      "step: 3600  loss: 1.1700  0.0918 sec/batch\n",
      "step: 3800  loss: 1.1488  0.0918 sec/batch\n",
      "step: 4000  loss: 1.1594  0.0947 sec/batch\n",
      "step: 4200  loss: 1.1510  0.0928 sec/batch\n",
      "step: 4400  loss: 1.1818  0.0937 sec/batch\n",
      "step: 4600  loss: 1.1515  0.0928 sec/batch\n",
      "step: 4800  loss: 1.1246  0.0937 sec/batch\n",
      "step: 5000  loss: 1.2040  0.0928 sec/batch\n",
      "step: 5200  loss: 1.1363  0.0928 sec/batch\n",
      "step: 5400  loss: 1.1610  0.0947 sec/batch\n",
      "step: 5600  loss: 1.1308  0.0907 sec/batch\n",
      "step: 5800  loss: 1.1317  0.0927 sec/batch\n",
      "step: 6000  loss: 1.0928  0.0928 sec/batch\n"
     ]
    }
   ],
   "source": [
    "# these are preset parameters, you can change them to get better result\n",
    "batch_size = 100         # Sequences per batch\n",
    "num_steps = 100          # Number of sequence steps per batch\n",
    "rnn_size = 256           # Size of hidden layers in rnn_cell\n",
    "num_layers = 2           # Number of hidden layers\n",
    "learning_rate = 0.005    # Learning rate\n",
    "\n",
    "model = CharRNN(len(vocab), batch_size, num_steps, 'GRU', rnn_size,\n",
    "               num_layers, learning_rate)\n",
    "batches = get_batches(text_as_int, batch_size, num_steps)\n",
    "model.train(batches, 6000, 2000)"
   ]
  },
  {
   "cell_type": "code",
   "execution_count": 19,
   "metadata": {
    "scrolled": false
   },
   "outputs": [
    {
     "name": "stdout",
     "output_type": "stream",
     "text": [
      "INFO:tensorflow:Restoring parameters from checkpoints_whole\\i6000_l256_GRU.ckpt\n",
      "Romeo.\n",
      "\n",
      "QUEEN ELIZABETH:\n",
      "And, if it be, and, to be so far would.\n",
      "\n",
      "LORD FITZHAS:\n",
      "And thy mistress is been to colauge\n",
      "To men ase at our misarversulance:\n",
      "In thut thy brother were a milician man.\n",
      "Ae, my such, as it is.\n",
      "\n",
      "DUKE OF YORK:\n",
      "I have not done.\n",
      "\n",
      "QUEEN ELIZABETH:\n",
      "The gods that he stand fallers by their worth.\n",
      "\n",
      "KING HENRY VI:\n",
      "I have begut myself hast too a life\n",
      "End mendure me by breath to think ourselves.\n",
      "\n",
      "KING RICHARD III:\n",
      "And so it is; the gold condemneving\n",
      "To dear to tell the friend of such death,\n",
      "If any things in him therein be so.\n",
      "\n",
      "BUCKINGHAM:\n",
      "With horse, my lord, here comes her both\n",
      "To speak that feet the friend and searous,\n",
      "So shallibly to thy fair.\n",
      "\n",
      "KING RICHARD III:\n",
      "Stay, gentle Ludweies; I do beseect you\n",
      "Therefore you seal my service of my face.\n",
      "\n",
      "GREEN:\n",
      "I know it.\n",
      "\n",
      "KING RICHARD III:\n",
      "And welcome, say.\n",
      "\n",
      "RIVERS:\n",
      "Then will you strike at him be you will never\n",
      "Had inform'd to brounls fair a silly surcholing?\n",
      "\n",
      "BUCKINGHAM:\n",
      "My lord,\n",
      "Were shanupay, and my brother,\n",
      "And try whom in my sh\n"
     ]
    }
   ],
   "source": [
    "model = CharRNN(len(vocab), batch_size, num_steps, 'GRU', rnn_size,\n",
    "               num_layers, learning_rate, sampling=True)\n",
    "# choose the last checkpoint and generate new text\n",
    "checkpoint = tf.train.latest_checkpoint('checkpoints_whole')\n",
    "samp = model.sample(checkpoint, 1000, len(vocab), vocab_to_ind, ind_to_vocab, prime=\"LORD \")\n",
    "print(samp)"
   ]
  },
  {
   "cell_type": "markdown",
   "metadata": {},
   "source": [
    "#### Questions\n",
    "1. Compare your result of two networks that you built and the reasons that caused the difference. (It is a qualitative comparison, it should be based on the specific model that you build.)\n",
    "2. Discuss the difference between LSTM cells and GRU cells, what are the pros and cons of using GRU cells?"
   ]
  },
  {
   "cell_type": "markdown",
   "metadata": {},
   "source": [
    "Answer: \n",
    "1. GRU should have faster training time however here the dataset is not large so the difference is not that obvious. The results for both methods are good enough and it's hard to tell which one is better.\n",
    "2. GRU cells should have faster training time and perform better on dataset of small scale. GRU cell has only to gate which also makes it conputationally efficient. Theoretically, LSTM should have better performance on long distance memory."
   ]
  }
 ],
 "metadata": {
  "kernelspec": {
   "display_name": "Python 3",
   "language": "python",
   "name": "python3"
  },
  "language_info": {
   "codemirror_mode": {
    "name": "ipython",
    "version": 3
   },
   "file_extension": ".py",
   "mimetype": "text/x-python",
   "name": "python",
   "nbconvert_exporter": "python",
   "pygments_lexer": "ipython3",
   "version": "3.6.7"
  }
 },
 "nbformat": 4,
 "nbformat_minor": 2
}
