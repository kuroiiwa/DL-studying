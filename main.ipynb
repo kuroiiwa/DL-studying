{
 "cells": [
  {
   "cell_type": "code",
   "execution_count": 2,
   "metadata": {},
   "outputs": [
    {
     "name": "stdout",
     "output_type": "stream",
     "text": [
      "The autoreload extension is already loaded. To reload it, use:\n",
      "  %reload_ext autoreload\n",
      "C:\\Users\\kggab\\Documents\\project\\vgg19.npy\n",
      "npy file loaded\n",
      "build model started\n",
      "build model finished: 3s\n"
     ]
    }
   ],
   "source": [
    "%load_ext autoreload\n",
    "%autoreload 2\n",
    "\n",
    "import tensorflow as tf\n",
    "import utils\n",
    "import vgg19\n",
    "images = tf.placeholder(\"float\", [1, 224, 224, 3])\n",
    "vgg = vgg19.Vgg19()\n",
    "vgg.build(images) "
   ]
  },
  {
   "cell_type": "code",
   "execution_count": 82,
   "metadata": {},
   "outputs": [],
   "source": [
    "import copy\n",
    "content_img = utils.load_image(\"./images/columbia2.JPG\")\n",
    "style_img = utils.load_image(\"./images/Ukiyo.JPG\")\n",
    "content_img = content_img.reshape(1, 224, 224, 3)\n",
    "style_img = style_img.reshape(1, 224, 224, 3)\n",
    "output = copy.copy(style_img)\n",
    "data = {'conv1_1' : vgg.conv1_1,\n",
    "        'conv2_1' : vgg.conv2_1,\n",
    "        'conv3_1' : vgg.conv3_1,\n",
    "        'conv4_1' : vgg.conv4_1,\n",
    "        'conv5_1' : vgg.conv5_1}\n",
    "#feed_dict = {images: content_img}\n",
    "#with tf.Session() as sess:\n",
    "#    sess.run(tf.global_variables_initializer())\n",
    "#    sess.run(output, feed_dict = feed_dict)"
   ]
  },
  {
   "cell_type": "code",
   "execution_count": 75,
   "metadata": {},
   "outputs": [
    {
     "name": "stdout",
     "output_type": "stream",
     "text": [
      "[<tf.Tensor 'mul_31:0' shape=() dtype=float32>, <tf.Tensor 'mul_32:0' shape=() dtype=float32>]\n"
     ]
    }
   ],
   "source": [
    "import numpy as np\n",
    "def get_cont_loss_layer(output, content, layer):\n",
    "    content_layers = layer.split(',')\n",
    "    losses = []\n",
    "    for l in content_layers:\n",
    "        vgg_l = data[l]\n",
    "        losses.append(content_loss(output, content, vgg_l))\n",
    "    return losses\n",
    "\n",
    "def content_loss(output, content, layer):\n",
    "    with tf.Session() as sess:\n",
    "        F = sess.run(layer, {images: content_img})\n",
    "        P = sess.run(layer, {images: output})\n",
    "    shape = F.shape\n",
    "    m,n = shape[1]*shape[2], shape[3]\n",
    "    F = F.reshape(m,n)\n",
    "    P = P.reshape(m,n)\n",
    "    loss = 0.5 * tf.reduce_sum(tf.squared_difference(F, P))\n",
    "    return loss\n",
    "        \n",
    "content_loss = get_cont_loss_layer(output, content_img, \"conv1_1,conv2_1\")\n",
    "print(content_loss)"
   ]
  },
  {
   "cell_type": "code",
   "execution_count": 77,
   "metadata": {
    "scrolled": true
   },
   "outputs": [
    {
     "name": "stdout",
     "output_type": "stream",
     "text": [
      "[<tf.Tensor 'mul_33:0' shape=() dtype=float32>, <tf.Tensor 'mul_34:0' shape=() dtype=float32>, <tf.Tensor 'mul_35:0' shape=() dtype=float32>, <tf.Tensor 'mul_36:0' shape=() dtype=float32>, <tf.Tensor 'mul_37:0' shape=() dtype=float32>]\n"
     ]
    }
   ],
   "source": [
    "def get_style_loss_layer(output, style, layer):\n",
    "    style_layers = layer.split(',')\n",
    "    losses = []\n",
    "    for l in style_layers:\n",
    "        vgg_l = data[l]\n",
    "        losses.append(style_loss(output, style, vgg_l))\n",
    "    return losses\n",
    "\n",
    "def gram_matrix(image, vgg_l):\n",
    "    with tf.Session() as sess:\n",
    "        conv1_1 = sess.run(vgg_l, {images: image})\n",
    "    shape = conv1_1.shape\n",
    "    m,n = shape[1]*shape[2], shape[3]\n",
    "    vect_layer = conv1_1.reshape(m,n)\n",
    "    gram = tf.matmul(vect_layer, vect_layer, transpose_a = True)\n",
    "    return gram,m,n\n",
    "\n",
    "def style_loss(output, style, vgg_l):\n",
    "    A,m,n = gram_matrix(style, vgg_l)\n",
    "    G,m,n = gram_matrix(output, vgg_l)\n",
    "    loss = 1/(4*n^2*m^2) * tf.reduce_sum(tf.squared_difference(A, G))\n",
    "    return loss\n",
    "\n",
    "style_loss = get_style_loss_layer(output, style_img, \"conv1_1,conv2_1,conv3_1,conv4_1,conv5_1\")\n",
    "print(style_loss)"
   ]
  },
  {
   "cell_type": "code",
   "execution_count": 84,
   "metadata": {},
   "outputs": [
    {
     "ename": "ValueError",
     "evalue": "No gradients provided for any variable, check your graph for ops that do not support gradients, between variables [\"<tf.Variable 'Variable:0' shape=(1, 224, 224, 3) dtype=float32_ref>\", \"<tf.Variable 'Variable_1:0' shape=(1, 224, 224, 3) dtype=float32_ref>\"] and loss Tensor(\"add_6:0\", shape=(), dtype=float32).",
     "output_type": "error",
     "traceback": [
      "\u001b[1;31m---------------------------------------------------------------------------\u001b[0m",
      "\u001b[1;31mValueError\u001b[0m                                Traceback (most recent call last)",
      "\u001b[1;32m<ipython-input-84-7600e8b6da38>\u001b[0m in \u001b[0;36m<module>\u001b[1;34m\u001b[0m\n\u001b[0;32m      5\u001b[0m \u001b[0mtotal_loss\u001b[0m \u001b[1;33m=\u001b[0m \u001b[0mbeta\u001b[0m \u001b[1;33m*\u001b[0m \u001b[0mnp\u001b[0m\u001b[1;33m.\u001b[0m\u001b[0msum\u001b[0m\u001b[1;33m(\u001b[0m\u001b[0mcontent_loss\u001b[0m\u001b[1;33m)\u001b[0m \u001b[1;33m+\u001b[0m \u001b[0malpha\u001b[0m \u001b[1;33m*\u001b[0m \u001b[0mstyle_weights\u001b[0m \u001b[1;33m*\u001b[0m \u001b[0mnp\u001b[0m\u001b[1;33m.\u001b[0m\u001b[0msum\u001b[0m\u001b[1;33m(\u001b[0m\u001b[0mstyle_loss\u001b[0m\u001b[1;33m)\u001b[0m\u001b[1;33m\u001b[0m\u001b[1;33m\u001b[0m\u001b[0m\n\u001b[0;32m      6\u001b[0m \u001b[0moptimizer\u001b[0m \u001b[1;33m=\u001b[0m \u001b[0mtf\u001b[0m\u001b[1;33m.\u001b[0m\u001b[0mtrain\u001b[0m\u001b[1;33m.\u001b[0m\u001b[0mAdamOptimizer\u001b[0m\u001b[1;33m(\u001b[0m\u001b[0mlr\u001b[0m\u001b[1;33m)\u001b[0m\u001b[1;33m\u001b[0m\u001b[1;33m\u001b[0m\u001b[0m\n\u001b[1;32m----> 7\u001b[1;33m \u001b[0mtrain_step\u001b[0m \u001b[1;33m=\u001b[0m \u001b[0moptimizer\u001b[0m\u001b[1;33m.\u001b[0m\u001b[0mminimize\u001b[0m\u001b[1;33m(\u001b[0m\u001b[0mtotal_loss\u001b[0m\u001b[1;33m)\u001b[0m\u001b[1;33m\u001b[0m\u001b[1;33m\u001b[0m\u001b[0m\n\u001b[0m\u001b[0;32m      8\u001b[0m \u001b[0miterations\u001b[0m \u001b[1;33m=\u001b[0m \u001b[1;36m5\u001b[0m\u001b[1;33m\u001b[0m\u001b[1;33m\u001b[0m\u001b[0m\n\u001b[0;32m      9\u001b[0m \u001b[1;33m\u001b[0m\u001b[0m\n",
      "\u001b[1;32m~\\Anaconda3\\envs\\dlenv\\lib\\site-packages\\tensorflow\\python\\training\\optimizer.py\u001b[0m in \u001b[0;36mminimize\u001b[1;34m(self, loss, global_step, var_list, gate_gradients, aggregation_method, colocate_gradients_with_ops, name, grad_loss)\u001b[0m\n\u001b[0;32m    419\u001b[0m           \u001b[1;34m\"No gradients provided for any variable, check your graph for ops\"\u001b[0m\u001b[1;33m\u001b[0m\u001b[1;33m\u001b[0m\u001b[0m\n\u001b[0;32m    420\u001b[0m           \u001b[1;34m\" that do not support gradients, between variables %s and loss %s.\"\u001b[0m \u001b[1;33m%\u001b[0m\u001b[1;33m\u001b[0m\u001b[1;33m\u001b[0m\u001b[0m\n\u001b[1;32m--> 421\u001b[1;33m           ([str(v) for _, v in grads_and_vars], loss))\n\u001b[0m\u001b[0;32m    422\u001b[0m \u001b[1;33m\u001b[0m\u001b[0m\n\u001b[0;32m    423\u001b[0m     return self.apply_gradients(grads_and_vars, global_step=global_step,\n",
      "\u001b[1;31mValueError\u001b[0m: No gradients provided for any variable, check your graph for ops that do not support gradients, between variables [\"<tf.Variable 'Variable:0' shape=(1, 224, 224, 3) dtype=float32_ref>\", \"<tf.Variable 'Variable_1:0' shape=(1, 224, 224, 3) dtype=float32_ref>\"] and loss Tensor(\"add_6:0\", shape=(), dtype=float32)."
     ]
    }
   ],
   "source": [
    "style_weights = 1/5\n",
    "lr = 2.0\n",
    "beta = 1000\n",
    "alpha = 1\n",
    "total_loss = beta * np.sum(content_loss) + alpha * style_weights * np.sum(style_loss)\n",
    "optimizer = tf.train.AdamOptimizer(lr)\n",
    "train_step = optimizer.minimize(total_loss)\n",
    "iterations = 5\n",
    "\n",
    "with tf.Session() as sess:\n",
    "    sess.run(tf.global_variables_initializer())\n",
    "    for i in range(iterations):\n",
    "        sess.run(train_step)\n",
    "        print(\"loss:{}\".format(sess.run(total_loss)))\n",
    "    "
   ]
  },
  {
   "cell_type": "code",
   "execution_count": 71,
   "metadata": {},
   "outputs": [
    {
     "ename": "NameError",
     "evalue": "name 'img' is not defined",
     "output_type": "error",
     "traceback": [
      "\u001b[1;31m---------------------------------------------------------------------------\u001b[0m",
      "\u001b[1;31mNameError\u001b[0m                                 Traceback (most recent call last)",
      "\u001b[1;32m<ipython-input-71-3a5961488067>\u001b[0m in \u001b[0;36m<module>\u001b[1;34m\u001b[0m\n\u001b[0;32m      2\u001b[0m \u001b[1;32mimport\u001b[0m \u001b[0mmatplotlib\u001b[0m\u001b[1;33m.\u001b[0m\u001b[0mimage\u001b[0m \u001b[1;32mas\u001b[0m \u001b[0mmpimg\u001b[0m\u001b[1;33m\u001b[0m\u001b[1;33m\u001b[0m\u001b[0m\n\u001b[0;32m      3\u001b[0m \u001b[1;33m\u001b[0m\u001b[0m\n\u001b[1;32m----> 4\u001b[1;33m \u001b[0mimgplot\u001b[0m \u001b[1;33m=\u001b[0m \u001b[0mplt\u001b[0m\u001b[1;33m.\u001b[0m\u001b[0mimshow\u001b[0m\u001b[1;33m(\u001b[0m\u001b[0mimg\u001b[0m\u001b[1;33m)\u001b[0m\u001b[1;33m\u001b[0m\u001b[1;33m\u001b[0m\u001b[0m\n\u001b[0m",
      "\u001b[1;31mNameError\u001b[0m: name 'img' is not defined"
     ]
    }
   ],
   "source": [
    "import matplotlib.pyplot as plt\n",
    "import matplotlib.image as mpimg\n",
    "imgplot = plt.imshow(img)\n"
   ]
  },
  {
   "cell_type": "code",
   "execution_count": null,
   "metadata": {},
   "outputs": [],
   "source": []
  },
  {
   "cell_type": "code",
   "execution_count": null,
   "metadata": {},
   "outputs": [],
   "source": []
  }
 ],
 "metadata": {
  "kernelspec": {
   "display_name": "Python 3",
   "language": "python",
   "name": "python3"
  },
  "language_info": {
   "codemirror_mode": {
    "name": "ipython",
    "version": 3
   },
   "file_extension": ".py",
   "mimetype": "text/x-python",
   "name": "python",
   "nbconvert_exporter": "python",
   "pygments_lexer": "ipython3",
   "version": "3.6.7"
  }
 },
 "nbformat": 4,
 "nbformat_minor": 2
}
