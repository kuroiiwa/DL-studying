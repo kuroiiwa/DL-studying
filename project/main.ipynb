{
 "cells": [
  {
   "cell_type": "code",
   "execution_count": 1,
   "metadata": {},
   "outputs": [
    {
     "name": "stdout",
     "output_type": "stream",
     "text": [
      "C:\\Users\\kggab\\Documents\\project\\vgg19.npy\n",
      "npy file loaded\n",
      "build model started\n",
      "build model finished: 3s\n"
     ]
    }
   ],
   "source": [
    "%load_ext autoreload\n",
    "%autoreload 2\n",
    "\n",
    "import tensorflow as tf\n",
    "import utils\n",
    "import vgg19\n",
    "\n",
    "images = tf.placeholder(\"float\", [1, 224, 224, 3])\n",
    "vgg = vgg19.Vgg19()\n",
    "vgg.build(images) "
   ]
  },
  {
   "cell_type": "code",
   "execution_count": 2,
   "metadata": {},
   "outputs": [
    {
     "name": "stderr",
     "output_type": "stream",
     "text": [
      "C:\\Users\\kggab\\Anaconda3\\envs\\dlenv\\lib\\site-packages\\skimage\\transform\\_warps.py:105: UserWarning: The default mode, 'constant', will be changed to 'reflect' in skimage 0.15.\n",
      "  warn(\"The default mode, 'constant', will be changed to 'reflect' in \"\n",
      "C:\\Users\\kggab\\Anaconda3\\envs\\dlenv\\lib\\site-packages\\skimage\\transform\\_warps.py:110: UserWarning: Anti-aliasing will be enabled by default in skimage 0.15 to avoid aliasing artifacts when down-sampling images.\n",
      "  warn(\"Anti-aliasing will be enabled by default in skimage 0.15 to \"\n"
     ]
    }
   ],
   "source": [
    "import copy\n",
    "content_img = utils.load_image(\"./images/columbia2.JPG\")\n",
    "style_img = utils.load_image(\"./images/Ukiyo.JPG\")\n",
    "content_img = content_img.reshape(1, 224, 224, 3)\n",
    "style_img = style_img.reshape(1, 224, 224, 3)\n",
    "output = copy.copy(style_img)\n",
    "data = {'conv1_1' : vgg.conv1_1,\n",
    "        'conv2_1' : vgg.conv2_1,\n",
    "        'conv3_1' : vgg.conv3_1,\n",
    "        'conv4_1' : vgg.conv4_1,\n",
    "        'conv5_1' : vgg.conv5_1}\n",
    "# feed_dict = {images: content_img}\n",
    "# with tf.Session() as sess:\n",
    "#     sess.run(tf.global_variables_initializer())\n",
    "#     sess.run(output, feed_dict = feed_dict)"
   ]
  },
  {
   "cell_type": "code",
   "execution_count": 15,
   "metadata": {},
   "outputs": [
    {
     "name": "stdout",
     "output_type": "stream",
     "text": [
      "C:\\Users\\kggab\\Documents\\project\\vgg19.npy\n",
      "npy file loaded\n",
      "build model started\n",
      "build model finished: 3s\n"
     ]
    }
   ],
   "source": [
    "from generated import neural_style\n",
    "import numpy as np\n",
    "\n",
    "content_layers = \"conv1_1\"\n",
    "style_layers = \"conv1_1\"\n",
    "style_weights = 1/5\n",
    "neural_sty = neural_style(content_layers,\n",
    "                            style_layers,\n",
    "                            1,\n",
    "                            1000,\n",
    "                            style_weights)"
   ]
  },
  {
   "cell_type": "code",
   "execution_count": 16,
   "metadata": {
    "scrolled": true
   },
   "outputs": [
    {
     "name": "stdout",
     "output_type": "stream",
     "text": [
      "loss computed\n",
      "\n",
      "minimizing\n",
      "\n",
      "INFO:tensorflow:Optimization terminated with:\n",
      "  Message: b'CONVERGENCE: NORM_OF_PROJECTED_GRADIENT_<=_PGTOL'\n",
      "  Objective function value: 6100990033920.000000\n",
      "  Number of iterations: 0\n",
      "  Number of functions evaluations: 1\n"
     ]
    }
   ],
   "source": [
    "loss = neural_sty.run(content_image = content_img, style_image = style_img)"
   ]
  },
  {
   "cell_type": "code",
   "execution_count": 30,
   "metadata": {},
   "outputs": [
    {
     "name": "stdout",
     "output_type": "stream",
     "text": [
      "67988926000.0\n"
     ]
    }
   ],
   "source": [
    "with tf.Session() as sess:\n",
    "    res = sess.run(loss)\n",
    "    print(res)"
   ]
  },
  {
   "cell_type": "code",
   "execution_count": 48,
   "metadata": {},
   "outputs": [],
   "source": [
    "import skimage\n",
    "img = skimage.io.imread(\"./images/Ukiyo.jpg\")\n",
    "x=y=400\n",
    "save = skimage.transform.resize(img,(x,y))\n",
    "skimage.io.imsave(\"./images/output.jpg\", save)"
   ]
  },
  {
   "cell_type": "code",
   "execution_count": 12,
   "metadata": {},
   "outputs": [
    {
     "data": {
      "text/plain": [
       "'1_img.jpg'"
      ]
     },
     "execution_count": 12,
     "metadata": {},
     "output_type": "execute_result"
    }
   ],
   "source": []
  },
  {
   "cell_type": "code",
   "execution_count": null,
   "metadata": {},
   "outputs": [],
   "source": []
  }
 ],
 "metadata": {
  "kernelspec": {
   "display_name": "Python 3",
   "language": "python",
   "name": "python3"
  },
  "language_info": {
   "codemirror_mode": {
    "name": "ipython",
    "version": 3
   },
   "file_extension": ".py",
   "mimetype": "text/x-python",
   "name": "python",
   "nbconvert_exporter": "python",
   "pygments_lexer": "ipython3",
   "version": "3.6.7"
  }
 },
 "nbformat": 4,
 "nbformat_minor": 2
}
